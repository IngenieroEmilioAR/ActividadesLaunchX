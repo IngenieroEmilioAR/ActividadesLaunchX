from datetime import date

print(f"Today date is: {date.today()}")


parsec = 11

lightyears_to_parsec = parsec*3.26156

print(str(parsec) + " parsec, is " + str(lightyears_to_parsec) + " lightyears")
