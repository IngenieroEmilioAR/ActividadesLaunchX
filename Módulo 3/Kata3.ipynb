{
 "cells": [
  {
   "cell_type": "markdown",
   "metadata": {},
   "source": [
    "### Ejercicio 1\n",
    "\n",
    "Para este ejercicio, escribirás una lógica condicional que imprima una advertencia si un asteroide se acerca a la Tierra demasiado rápido. La velocidad del asteroide varía dependiendo de lo cerca que esté del sol, y cualquier velocidad superior a 25 kilómetros por segundo (km/s) merece una advertencia.\n",
    "\n",
    "Un asteroide se acerca, y viaja a una velocidad de 49 km/s."
   ]
  },
  {
   "cell_type": "code",
   "execution_count": 1,
   "metadata": {},
   "outputs": [
    {
     "name": "stdout",
     "output_type": "stream",
     "text": [
      "El asteroide se acerca muy rápido a la Tierra\n"
     ]
    }
   ],
   "source": [
    "velocidad_lim = 25 #km/s\n",
    "velocidad_actual  = 49 #km/s\n",
    "\n",
    "if velocidad_actual > velocidad_lim:\n",
    "    print(\"El asteroide se acerca muy rápido a la Tierra\")\n",
    "else:\n",
    "    print(\"El asteroide no representa riesgo.\")"
   ]
  },
  {
   "cell_type": "markdown",
   "metadata": {},
   "source": [
    "## Ejercicio 2\n",
    "\n",
    "Si un asteroide entra en la atmósfera de la Tierra a una velocidad mayor o igual a 20 km/s, a veces produce un rayo de luz que se puede ver desde la Tierra. Escribe la lógica condicional que usa declaraciones if, else, y elif para alertar a las personas de todo el mundo que deben buscar un asteroide en el cielo. ¡Hay uno que se dirige a la tierra ahora a una velocidad de 19 km/s!"
   ]
  },
  {
   "cell_type": "code",
   "execution_count": 6,
   "metadata": {},
   "outputs": [
    {
     "name": "stdout",
     "output_type": "stream",
     "text": [
      "No  hay nada que ver\n"
     ]
    }
   ],
   "source": [
    "velocidad_rayo = 20 #km/s, velocidad a la que se produce un rayo\n",
    "velocidad_actual = 19 #km/s, velocidad a la que va el asteroide\n",
    "\n",
    "if velocidad_actual > velocidad_rayo:\n",
    "    print(\"Atención, favor de buscar un asteroide en el cielo\")\n",
    "elif velocidad_actual == velocidad_rayo:\n",
    "    print(\"Atención, favor de buscar un asteroide en el cielo\")\n",
    "else:\n",
    "    print(\"No  hay nada que ver\")"
   ]
  },
  {
   "cell_type": "markdown",
   "metadata": {},
   "source": [
    "## Ejercicio 3\n",
    "\n",
    "En este ejercicio, aprenderás información más matizada sobre cuándo los asteroides representan un peligro para la Tierra, y utilizarás esa información para mejorar nuestro sistema de advertencia. Aquí está la nueva información que necesitas saber:\n",
    "\n",
    "*Los asteroides de menos de 25 metros en su dimensión más grande probablemente se quemarán a medida que entren en la atmósfera de la Tierra.\n",
    "\n",
    "> Si una pieza de un asteroide que es más grande que 25 metros pero más pequeña que 1000 metros golpeara la Tierra, causaría mucho daño.\n",
    "\n",
    "También discutimos en el ejercicio anterior que:\n",
    "\n",
    "> La velocidad del asteroide varía en función de lo cerca que esté del sol, y cualquier velocidad superior a 25 kilómetros por segundo (km/s) merece una advertencia.\n",
    "\n",
    "> Si un asteroide entra en la atmósfera de la Tierra a una velocidad mayor o igual a 20 km/s, a veces produce un rayo de luz que se puede ver desde la Tierra.\n",
    "\n",
    "\n",
    "Usando toda esta información, escribe un programa que emita la advertencia o información correcta a la gente de la Tierra, según la velocidad y el tamaño de un asteroide. Utiliza instrucciones if, else, y elif, así como los operadores and y or."
   ]
  },
  {
   "cell_type": "code",
   "execution_count": 20,
   "metadata": {},
   "outputs": [
    {
     "name": "stdout",
     "output_type": "stream",
     "text": [
      "Dimensión: 24\n",
      "Velocidad: 24\n",
      "Atención, ver en el cielo la luz.\n"
     ]
    }
   ],
   "source": [
    "import random as rd\n",
    "\n",
    "dim_ast = 24#rd.randint(1,1000) #Dimensión más grande del asteroide en m\n",
    "dim_crit = 25 #m\n",
    "vel_ast = 24#rd.randint(1,1000) #velocidad del asteroide en km/s\n",
    "vel_crit1 = 25 #Velocidad advertencia\n",
    "vel_crit2 = 20 #velocidad que produce rayo de luz\n",
    "\n",
    "print(f\"Dimensión: {dim_ast}\\nVelocidad: {vel_ast}\")\n",
    "\n",
    "if dim_ast >= dim_crit and vel_ast >= vel_crit2:\n",
    "    if vel_ast >= vel_crit1:\n",
    "        print(\"Peligro, un asteroide grande se acerca muy rápido, ver la luz.\")\n",
    "    else:\n",
    "        print(\"Atención, un asteroide grande se acerca. Ver en el cielo la luz.\")\n",
    "\n",
    "elif dim_ast < dim_crit and vel_ast >= vel_crit2:\n",
    "    if vel_ast >= vel_crit1:\n",
    "        print(\"Un asteroide pequeño se acerca rápido. Seguramente se quemará al entrar a la atmósfera.\")\n",
    "    else:\n",
    "        print(\"Atención, ver en el cielo la luz.\")   \n",
    "\n",
    "elif dim_ast >= dim_crit and vel_ast < vel_crit2:\n",
    "    print(\"Un asteroide bien grande se acerca lentamente a la Tierra.\") \n",
    "\n",
    "else: \n",
    "    print(\"El asteroide no representa riesgo.\")\n"
   ]
  }
 ],
 "metadata": {
  "interpreter": {
   "hash": "7a65aeb03fd8856c6a2ed52778762b6af62bb1eadd018041cfb309cf1d194fc4"
  },
  "kernelspec": {
   "display_name": "Python 3.8.3 ('base')",
   "language": "python",
   "name": "python3"
  },
  "language_info": {
   "codemirror_mode": {
    "name": "ipython",
    "version": 3
   },
   "file_extension": ".py",
   "mimetype": "text/x-python",
   "name": "python",
   "nbconvert_exporter": "python",
   "pygments_lexer": "ipython3",
   "version": "3.8.3"
  },
  "orig_nbformat": 4
 },
 "nbformat": 4,
 "nbformat_minor": 2
}
